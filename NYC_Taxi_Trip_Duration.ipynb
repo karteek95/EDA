{
 "cells": [
  {
   "cell_type": "markdown",
   "id": "a7f44980-f42d-4151-9f47-eccee41eca27",
   "metadata": {},
   "source": [
    "# Objective:\n",
    "- Purpose of the project is to practice EDA using pandas"
   ]
  },
  {
   "cell_type": "markdown",
   "id": "6b870055-1215-4ff9-843d-8e0eae913a93",
   "metadata": {},
   "source": [
    "# Data source: \n",
    "- https://www.kaggle.com/competitions/nyc-taxi-trip-duration/data"
   ]
  },
  {
   "cell_type": "code",
   "execution_count": 1,
   "id": "3d062b85-436d-47ca-8993-ad862fe1b554",
   "metadata": {},
   "outputs": [],
   "source": [
    "import pandas as pd\n",
    "import numpy as np"
   ]
  },
  {
   "cell_type": "code",
   "execution_count": 2,
   "id": "11b5324a-3340-4aa8-a174-f08b819308b3",
   "metadata": {},
   "outputs": [
    {
     "name": "stdout",
     "output_type": "stream",
     "text": [
      "Number of rows:  1458644\n"
     ]
    }
   ],
   "source": [
    "# Read the data\n",
    "data = pd.read_csv(\"train.csv\")\n",
    "print('Number of rows: ', data.shape[0])"
   ]
  },
  {
   "cell_type": "code",
   "execution_count": 3,
   "id": "96d364d8-994d-47ab-81e8-c168f5f0fc57",
   "metadata": {},
   "outputs": [
    {
     "name": "stdout",
     "output_type": "stream",
     "text": [
      "column names: Index(['id', 'vendor_id', 'pickup_datetime', 'dropoff_datetime',\n",
      "       'passenger_count', 'pickup_longitude', 'pickup_latitude',\n",
      "       'dropoff_longitude', 'dropoff_latitude', 'store_and_fwd_flag',\n",
      "       'trip_duration'],\n",
      "      dtype='object')\n"
     ]
    }
   ],
   "source": [
    "print('column names:', data.columns)"
   ]
  },
  {
   "cell_type": "code",
   "execution_count": null,
   "id": "04c2ffc9-51dd-4f57-bc73-9a5f2a7925e1",
   "metadata": {},
   "outputs": [],
   "source": []
  }
 ],
 "metadata": {
  "kernelspec": {
   "display_name": "Python 3 (ipykernel)",
   "language": "python",
   "name": "python3"
  },
  "language_info": {
   "codemirror_mode": {
    "name": "ipython",
    "version": 3
   },
   "file_extension": ".py",
   "mimetype": "text/x-python",
   "name": "python",
   "nbconvert_exporter": "python",
   "pygments_lexer": "ipython3",
   "version": "3.12.4"
  }
 },
 "nbformat": 4,
 "nbformat_minor": 5
}
